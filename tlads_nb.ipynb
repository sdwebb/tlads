{
 "cells": [
  {
   "cell_type": "markdown",
   "id": "bac1e4b8-e8af-4996-a8fa-4ec80459a89f",
   "metadata": {},
   "source": [
    "# Think Like a Data Scientist: <br/> &emsp; An Introduction to Solving <br/> &emsp; Data Oriented Problems\n",
    ":author: Stephen Webb\n",
    "\n",
    "The purpose of this workshop is to give its participants a guided hands-on tour to how Data Scientists approach problems, and how this may be different from how Software Engineers may approach the same problem. By the end of this workshop, the goal is for everyone to have first-hand experience of what it is like to tackle an open-ended, exploratory data problem using real data."
   ]
  },
  {
   "cell_type": "markdown",
   "id": "ad0108b9-b376-438b-87ec-8b5f7c10385e",
   "metadata": {},
   "source": [
    "***\n",
    "***\n",
    "## Introduction"
   ]
  },
  {
   "cell_type": "markdown",
   "id": "2e743cb9",
   "metadata": {},
   "source": [
    "### The Data Problem\n",
    "\n",
    "> Given a data set and some information about how it was collected,<br/> what questions can we ask from it?, and <br/> what problems can we solve with it?\n",
    "\n",
    "***"
   ]
  },
  {
   "cell_type": "markdown",
   "id": "98bd903d",
   "metadata": {},
   "source": [
    "### A glib distinction between science and engineering from an authoritative source\n",
    "\n",
    "> \"In science, <br/>\n",
    "if you know what you are doing, <br/> \n",
    "you should not be doing it. \n",
    "<br/> <br/> \n",
    "In engineering, <br/>\n",
    "if you do not know what you are doing, <br/>\n",
    "you should not be doing it.\"​\n",
    "\n",
    " - Richard Hamming, [The Art of Doing Science and Engineering: Learning to Learn](https://www.google.com/books/edition/The_Art_of_Doing_Science_and_Engineering/vKbpywEACAAJ?hl=en)\n",
    "\n",
    "Most software engineers come with a _Builder's Mindset_ – given a problem, how can we design a system that will solve it?\n",
    "\n",
    "Most data scientists come with an _Experimenter's Mindset_ – given a question, how can we use the information available to us to go about answering it?\n",
    "\n",
    "***"
   ]
  },
  {
   "cell_type": "markdown",
   "id": "7e6e3ce9",
   "metadata": {},
   "source": [
    "### The Challenge\n",
    "\n",
    "![XKCD comic #1425, in which someone asks for a model to detect whether a photo is from a national park, easy with the presence of metadata, and then if there is a bird in the photo, which at the time was a full blown research problem.](./images/xkcd.png \"XKCD #1425\")\n",
    "\n",
    "Seemingly small changes in the business problem being asked can move things from trivially solvable to impossible, or extremely challenging, based on the data available, the requirements on the solution, and other considerations.\n",
    "\n",
    "# Example of Business Problem that then required a technical solution. Concrete example of a solution."
   ]
  },
  {
   "cell_type": "markdown",
   "id": "ffcfe5bc-4c47-4c4f-a5d9-5b5f7321b687",
   "metadata": {},
   "source": [
    "***\n",
    "***\n",
    "## Step 1: Look at the data\n"
   ]
  },
  {
   "cell_type": "markdown",
   "id": "82bd25ca",
   "metadata": {},
   "source": [
    "### Why do we need to look at the data?\n",
    "\n",
    "| **How someone described the data** |\n",
    "|:--:|\n",
    "|![Futuristic utopian city](./images/future-city.jpg) |\n",
    "\n",
    "| **What the people who work with it think the data looks like** |\n",
    "|:--:|\n",
    "|![Study After Velazquez's Portrait of Pope Innocent X](./images/innocent-x.png)|\n",
    "\n",
    "| **What the data actually looks like** |\n",
    "|:--:|\n",
    "|![A Rube Goldberg Machine](./images/rubegoldberg.jpg) |\n",
    "\n"
   ]
  },
  {
   "cell_type": "markdown",
   "id": "739af8d1",
   "metadata": {},
   "source": [
    "### So let's look at some data!"
   ]
  },
  {
   "cell_type": "code",
   "execution_count": null,
   "id": "e072b7fb",
   "metadata": {},
   "outputs": [],
   "source": [
    "import pandas as pd"
   ]
  },
  {
   "cell_type": "code",
   "execution_count": null,
   "id": "aa4c6fdc",
   "metadata": {},
   "outputs": [],
   "source": [
    "df = pd.read_csv('./data/fremont-bridge-bicycle-counts-exercise.csv')"
   ]
  },
  {
   "cell_type": "markdown",
   "id": "7e61eea7",
   "metadata": {},
   "source": [
    "***\n",
    "## Step 2: Ask a question of the data\n"
   ]
  },
  {
   "cell_type": "code",
   "execution_count": null,
   "id": "7a99836e",
   "metadata": {},
   "outputs": [],
   "source": []
  },
  {
   "cell_type": "markdown",
   "id": "64cf3b17",
   "metadata": {},
   "source": [
    "***\n",
    "## The Ladder of Data Maturity\n",
    "\n",
    "![A diagram of a ladder indicating the steps of data maturity, beginning with Existence, then Reporting and Analytics, followed by \"Baby\" Machine Learning Models, and concluding with \"Big\" Machine Learning & Automation](./data_maturity.jpeg \"Ladder of Data Maturity\")\n",
    "\n",
    "***\n",
    "### **Existence**\n",
    "\n",
    "**What it is** - \n",
    "\n",
    "The data is accessible through standardized data tables with access control, where the information input _should_ be considered accurate.\n",
    "\n",
    "**What it looks like** - \n",
    "\n",
    "Moving from data manually entered into Excel spreadsheets that sit in OneDrive to access controlled form entries that write to a table in Fabric with automatic processes for recording edits and revisions to entries.\n",
    "\n",
    "[Tidy Data](https://vita.had.co.nz/papers/tidy-data.pdf) is a very good guide to how to organize data. The four bullet summary is:\n",
    "* Each variable forms a column\n",
    "* Each observation forms a row\n",
    "* Each type of observational unit forms a table\n",
    "\n",
    "\n",
    "***\n",
    "### **Reporting & Analytics**\n",
    "\n",
    "**What it is** - \n",
    "\n",
    "The data in the standardized tables can be aggregated (Reporting), summarized, and described (Analytics) in ways that provide information that informs decisions.\n",
    "\n",
    "**What it looks like** - \n",
    "\n",
    "All stakeholders are able to look at a dashboard that exposes the data in SAP describing current status and forecasts that include seasonality effects based on data that is validated and updated synchronously.\n",
    "\n",
    "***\n",
    "### **\"Traditional\" Machine Learning Models**\n",
    "\n",
    "**What it is** - \n",
    "\n",
    "Complex correlations in data are encoded in single models that output probabilities or quantitative predictions – \"traditional\" machine learning, lightweight models, etc.\n",
    "\n",
    "**What it looks like** - \n",
    "\n",
    "A statistical model which takes disparate features – month of the year, current data, unemployment and inflation data – and provides a three month demand forecast.\n",
    "\n",
    "\n",
    "***\n",
    "### **LLMs, RAG, Agentic Systems, Automation...**\n",
    "\n",
    "**What it is** - \n",
    "\n",
    "Language models, agentic systems, and other automated or autonomous decision-making models.\n",
    "\n",
    "**What it looks like** - \n",
    "\n",
    "An agentic system that receives a forecasted supply shortfall based on a demand forecasting model and adjusts production schedules automatically to minimize the shortfall."
   ]
  },
  {
   "cell_type": "markdown",
   "id": "176f5b51",
   "metadata": {},
   "source": [
    "***\n",
    "***\n",
    "## Common Pitfalls\n",
    "\n",
    "### Falling in love with using a tool instead of solving a problem\n",
    "\n",
    "Someone just published the latest GraphRAG algorithm and you're dying to use it for your information retrieval problem. \n",
    "\n",
    "But is it better than [Okapi BM25](https://en.wikipedia.org/wiki/Okapi_BM25) for solving your problem?\n",
    "\n",
    "**Corollary**: always start with the simplest model that you think might solve the problem, and see how it fails. Machine learning models are [the high interest credit card of technical debt](https://static.googleusercontent.com/media/research.google.com/en//pubs/archive/43146.pdf) and it is important to earn that debt.\n",
    "\n",
    "***\n",
    "\n",
    "### A data point is not a unit test\n",
    "\n",
    "I once worked on a project that was meant to be core infrastructure for the whole business to replace an outside vendor.\n",
    "\n",
    "We developed a model that was substantially better than what was already in production in every metric we were asked to use.\n",
    "\n",
    "The Product Owner blocked deployment for six months, at a cost of several million dollars, because the model wasn't perfect on one particular pathological data point that was deemed part of the acceptance criteria.\n",
    "\n",
    "**Corollary**: Machine learning models learn to replicate distributions, and all distributions have tails and outliers. Models will always fail _somewhere_.\n",
    "\n",
    "***\n",
    "\n",
    "### A machine learning model is not software\n",
    "\n",
    "LLMs have a `Temperature` parameter that adds stochasticity and non-repeatability of the output at fixed input\n",
    "\n",
    "A model given an input that is outside of the training distribution will give _an_ answer, but there is no _a priori_ check that the result will be sensible\n",
    "\n",
    "Model performance is measured using evaluation metrics, which are `Float`, rather than unit testing suites, which are `Boolean`\n",
    "\n",
    "There is no way to \"refactor\" a model – when requirements change, a new model likely needs to be developed\n",
    "\n",
    "**Corollary**: once deployed, though, a machine learning model looks a lot like an endpoint, and good software engineering and architecture practices do apply _to that endpoint_.\n",
    "\n",
    "***\n",
    "\n",
    "### Patterns can change, your model does not\n",
    "\n",
    "I worked at a business travel booking company.\n",
    "\n",
    "There were clear time periods of <br/>\n",
    "\"Before COVID\", <br/> \n",
    "\"After COVID, but before widespread vaccine availability\", and <br/>\n",
    "\"After widespread vaccine availability\"<br/>\n",
    "in the user behavior.\n",
    "\n",
    "**Corollary**: monitoring for data drift is an incredibly valuable and underrated activity."
   ]
  },
  {
   "cell_type": "markdown",
   "id": "8a8c7180",
   "metadata": {},
   "source": []
  }
 ],
 "metadata": {
  "kernelspec": {
   "display_name": "ds_general",
   "language": "python",
   "name": "python3"
  },
  "language_info": {
   "codemirror_mode": {
    "name": "ipython",
    "version": 3
   },
   "file_extension": ".py",
   "mimetype": "text/x-python",
   "name": "python",
   "nbconvert_exporter": "python",
   "pygments_lexer": "ipython3",
   "version": "3.13.1"
  }
 },
 "nbformat": 4,
 "nbformat_minor": 5
}
